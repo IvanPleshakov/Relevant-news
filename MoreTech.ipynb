{
 "cells": [
  {
   "cell_type": "code",
   "execution_count": 1,
   "id": "1417c8fc",
   "metadata": {},
   "outputs": [],
   "source": [
    "# numpy 1.21.15\n",
    "# pandas 1.4.2\n",
    "# matplotlib 3.5.1\n",
    "# seaborn 0.11.2\n",
    "# nltk 3.7\n",
    "# sklearn 1.1.2\n",
    "# gensim 4.1.2\n",
    "# transformers 4.22.2\n",
    "# torch 1.12.1+cpu\n",
    "# re 2.2.1\n",
    "# IPython 8.2.0"
   ]
  },
  {
   "cell_type": "code",
   "execution_count": 2,
   "id": "60b1220d",
   "metadata": {},
   "outputs": [
    {
     "data": {
      "text/plain": [
       "'1.1.2'"
      ]
     },
     "execution_count": 2,
     "metadata": {},
     "output_type": "execute_result"
    }
   ],
   "source": [
    "import sklearn\n",
    "sklearn.__version__"
   ]
  },
  {
   "cell_type": "markdown",
   "id": "6bebc31c",
   "metadata": {},
   "source": [
    "### Импортируем библиотеки"
   ]
  },
  {
   "cell_type": "code",
   "execution_count": 3,
   "id": "e0d131a1",
   "metadata": {},
   "outputs": [],
   "source": [
    "import numpy as np\n",
    "import pandas as pd\n",
    "import matplotlib.pyplot as plt\n",
    "import seaborn as sns; sns.set()\n",
    "import re\n",
    "import nltk\n",
    "from nltk.tokenize import word_tokenize\n",
    "from nltk.corpus import stopwords\n",
    "from nltk.stem.snowball import SnowballStemmer\n",
    "from sklearn.decomposition import TruncatedSVD\n",
    "from sklearn.feature_extraction.text import TfidfVectorizer\n",
    "from sklearn.neighbors import NearestNeighbors\n",
    "from gensim.models import FastText\n",
    "import torch \n",
    "import transformers as ppb\n",
    "from IPython.display import display\n",
    "from transformers import AutoTokenizer, AutoModel\n",
    "from datetime import datetime, timedelta\n",
    "\n",
    "\n",
    "\n",
    "from string import punctuation, digits, ascii_letters\n",
    "punctuation += '—' + '«' + '»' + digits + ascii_letters\n",
    "punctuation = punctuation.replace('-', '')\n",
    "\n",
    "%matplotlib inline"
   ]
  },
  {
   "cell_type": "markdown",
   "id": "43c4bf3c",
   "metadata": {},
   "source": [
    "### Импортируем файлы с описаниями профессий и данные новостей"
   ]
  },
  {
   "cell_type": "code",
   "execution_count": 4,
   "id": "64290b4c",
   "metadata": {},
   "outputs": [
    {
     "data": {
      "text/html": [
       "<div>\n",
       "<style scoped>\n",
       "    .dataframe tbody tr th:only-of-type {\n",
       "        vertical-align: middle;\n",
       "    }\n",
       "\n",
       "    .dataframe tbody tr th {\n",
       "        vertical-align: top;\n",
       "    }\n",
       "\n",
       "    .dataframe thead th {\n",
       "        text-align: right;\n",
       "    }\n",
       "</style>\n",
       "<table border=\"1\" class=\"dataframe\">\n",
       "  <thead>\n",
       "    <tr style=\"text-align: right;\">\n",
       "      <th></th>\n",
       "      <th>id</th>\n",
       "      <th>source</th>\n",
       "      <th>topic</th>\n",
       "      <th>title</th>\n",
       "      <th>preamble</th>\n",
       "      <th>tldr</th>\n",
       "      <th>timestamp</th>\n",
       "      <th>body</th>\n",
       "    </tr>\n",
       "  </thead>\n",
       "  <tbody>\n",
       "    <tr>\n",
       "      <th>0</th>\n",
       "      <td>5dd274649a7947720ac6c962</td>\n",
       "      <td>rbc</td>\n",
       "      <td>economics</td>\n",
       "      <td>Денежные переходы: 10 самых дорогих мостов России</td>\n",
       "      <td>NaN</td>\n",
       "      <td>Стало известно, что цена строительства моста ч...</td>\n",
       "      <td>2022-09-29</td>\n",
       "      <td>Стало известно, что цена строительства моста ч...</td>\n",
       "    </tr>\n",
       "    <tr>\n",
       "      <th>1</th>\n",
       "      <td>62cc6de89a79475ea8638a76</td>\n",
       "      <td>rbc</td>\n",
       "      <td>finances</td>\n",
       "      <td>В App Store появилась замена удаленного из-за ...</td>\n",
       "      <td>NaN</td>\n",
       "      <td>В App Store, магазине приложений для iPhone, п...</td>\n",
       "      <td>2022-08-16</td>\n",
       "      <td>В App Store, магазине приложений для устройств...</td>\n",
       "    </tr>\n",
       "    <tr>\n",
       "      <th>2</th>\n",
       "      <td>62f0fea09a7947d08b436a53</td>\n",
       "      <td>rbc</td>\n",
       "      <td>finances</td>\n",
       "      <td>Выдачи потребительских кредитов приблизились к...</td>\n",
       "      <td>Frank RG: банки в июле увеличили кредитование ...</td>\n",
       "      <td>В июле россияне получили кредиты наличными на ...</td>\n",
       "      <td>2022-08-09</td>\n",
       "      <td>Российские банки в июле 2022 года одобрили нас...</td>\n",
       "    </tr>\n",
       "    <tr>\n",
       "      <th>3</th>\n",
       "      <td>62f1344d9a7947ea40bd587d</td>\n",
       "      <td>rbc</td>\n",
       "      <td>finances</td>\n",
       "      <td>ЦБ усложнит выдачу кредитов бизнесу в «токсичн...</td>\n",
       "      <td>NaN</td>\n",
       "      <td>Банк России намерен ввести надбавки по ссудам ...</td>\n",
       "      <td>2022-08-08</td>\n",
       "      <td>ЦБ запланировал дифференцировать для банков вы...</td>\n",
       "    </tr>\n",
       "    <tr>\n",
       "      <th>4</th>\n",
       "      <td>62f134db9a7947ea1d38bdd9</td>\n",
       "      <td>rbc</td>\n",
       "      <td>finances</td>\n",
       "      <td>Путин разрешил банкам не работать в валюте стр...</td>\n",
       "      <td>NaN</td>\n",
       "      <td>Также президент разрешил ЦБ определять максима...</td>\n",
       "      <td>2022-08-08</td>\n",
       "      <td>Президент Владимир Путин подписал указ, один и...</td>\n",
       "    </tr>\n",
       "  </tbody>\n",
       "</table>\n",
       "</div>"
      ],
      "text/plain": [
       "                         id source      topic  \\\n",
       "0  5dd274649a7947720ac6c962    rbc  economics   \n",
       "1  62cc6de89a79475ea8638a76    rbc   finances   \n",
       "2  62f0fea09a7947d08b436a53    rbc   finances   \n",
       "3  62f1344d9a7947ea40bd587d    rbc   finances   \n",
       "4  62f134db9a7947ea1d38bdd9    rbc   finances   \n",
       "\n",
       "                                               title  \\\n",
       "0  Денежные переходы: 10 самых дорогих мостов России   \n",
       "1  В App Store появилась замена удаленного из-за ...   \n",
       "2  Выдачи потребительских кредитов приблизились к...   \n",
       "3  ЦБ усложнит выдачу кредитов бизнесу в «токсичн...   \n",
       "4  Путин разрешил банкам не работать в валюте стр...   \n",
       "\n",
       "                                            preamble  \\\n",
       "0                                                NaN   \n",
       "1                                                NaN   \n",
       "2  Frank RG: банки в июле увеличили кредитование ...   \n",
       "3                                                NaN   \n",
       "4                                                NaN   \n",
       "\n",
       "                                                tldr   timestamp  \\\n",
       "0  Стало известно, что цена строительства моста ч...  2022-09-29   \n",
       "1  В App Store, магазине приложений для iPhone, п...  2022-08-16   \n",
       "2  В июле россияне получили кредиты наличными на ...  2022-08-09   \n",
       "3  Банк России намерен ввести надбавки по ссудам ...  2022-08-08   \n",
       "4  Также президент разрешил ЦБ определять максима...  2022-08-08   \n",
       "\n",
       "                                                body  \n",
       "0  Стало известно, что цена строительства моста ч...  \n",
       "1  В App Store, магазине приложений для устройств...  \n",
       "2  Российские банки в июле 2022 года одобрили нас...  \n",
       "3  ЦБ запланировал дифференцировать для банков вы...  \n",
       "4  Президент Владимир Путин подписал указ, один и...  "
      ]
     },
     "execution_count": 4,
     "metadata": {},
     "output_type": "execute_result"
    }
   ],
   "source": [
    "dataset = pd.read_csv('data/dataset.csv')\n",
    "dataset.head()"
   ]
  },
  {
   "cell_type": "code",
   "execution_count": 5,
   "id": "ddeb207b",
   "metadata": {},
   "outputs": [
    {
     "data": {
      "text/plain": [
       "(6786, 8)"
      ]
     },
     "execution_count": 5,
     "metadata": {},
     "output_type": "execute_result"
    }
   ],
   "source": [
    "dataset.shape"
   ]
  },
  {
   "cell_type": "code",
   "execution_count": 6,
   "id": "c676f93c",
   "metadata": {},
   "outputs": [
    {
     "data": {
      "image/png": "[encoded data removed]",
      "text/plain": [
       "<Figure size 720x720 with 1 Axes>"
      ]
     },
     "metadata": {
      "needs_background": "light"
     },
     "output_type": "display_data"
    }
   ],
   "source": [
    "data_sort = dataset.groupby('topic').count().sort_values(by='title', ascending=False)\n",
    "\n",
    "plt.figure(figsize=(10, 10))\n",
    "plt.xticks(rotation=90)\n",
    "y = data_sort.index\n",
    "x = data_sort['title'].values\n",
    "plt.tick_params(axis='both', which='major', labelsize=12, colors='black')\n",
    "sns.barplot(y=y, x=x)\n",
    "plt.xlabel('Number of topics', fontsize=20)\n",
    "plt.ylabel('Topic names', fontsize=20)\n",
    "plt.show()"
   ]
  },
  {
   "cell_type": "code",
   "execution_count": 7,
   "id": "c4169652",
   "metadata": {},
   "outputs": [
    {
     "data": {
      "image/png": "[encoded data removed]",
      "text/plain": [
       "<Figure size 720x720 with 1 Axes>"
      ]
     },
     "metadata": {
      "needs_background": "light"
     },
     "output_type": "display_data"
    }
   ],
   "source": [
    "dataset_copy = dataset.copy()\n",
    "dataset_copy['year'] = pd.to_datetime(dataset_copy['timestamp']).dt.year\n",
    "data_sort = dataset_copy.groupby('year').count().sort_values(by='title', ascending=False)\n",
    "\n",
    "plt.figure(figsize=(10, 10))\n",
    "y = data_sort.index\n",
    "x = data_sort['title'].values\n",
    "plt.tick_params(axis='both', which='major', labelsize=12, colors='black')\n",
    "sns.barplot(y=y, x=x)\n",
    "plt.xlabel('Number of topics', fontsize=20)\n",
    "plt.ylabel('Year', fontsize=20)\n",
    "plt.ylim(2017, 2023)\n",
    "plt.show()"
   ]
  },
  {
   "cell_type": "code",
   "execution_count": 8,
   "id": "1e18538a",
   "metadata": {},
   "outputs": [
    {
     "data": {
      "image/png": "[encoded data removed]",
      "text/plain": [
       "<Figure size 720x720 with 1 Axes>"
      ]
     },
     "metadata": {
      "needs_background": "light"
     },
     "output_type": "display_data"
    }
   ],
   "source": [
    "data_sort = dataset_copy.groupby('source').count().sort_values(by='title', ascending=False)\n",
    "\n",
    "plt.figure(figsize=(10, 10))\n",
    "y = data_sort.index\n",
    "x = data_sort['title'].values\n",
    "plt.tick_params(axis='both', which='major', labelsize=15, colors='black')\n",
    "sns.barplot(y=y, x=x)\n",
    "plt.xlabel('Number of topics', fontsize=20)\n",
    "plt.ylabel('Source', fontsize=20)\n",
    "plt.show()"
   ]
  },
  {
   "cell_type": "markdown",
   "id": "d4f814bc",
   "metadata": {},
   "source": [
    "### Обработаем данные о профессиях"
   ]
  },
  {
   "cell_type": "code",
   "execution_count": 9,
   "id": "0be5646e",
   "metadata": {},
   "outputs": [],
   "source": [
    "def empl(link):\n",
    "    with open(link, encoding='utf-8') as f:\n",
    "        text = f.read()\n",
    "        \n",
    "    return text"
   ]
  },
  {
   "cell_type": "code",
   "execution_count": 10,
   "id": "5e0f3c95",
   "metadata": {},
   "outputs": [],
   "source": [
    "empl1 = pd.DataFrame([{'title': empl('data/director1.txt').split(' ')[0], 'body': empl('data/director1.txt')}])\n",
    "empl2 = pd.DataFrame([{'title': empl('data/бухгалтер.txt').split(' ')[0], 'body': empl('data/бухгалтер.txt')}])\n",
    "empl = pd.concat([empl1, empl2])\n",
    "empl.index = np.arange(0, empl.shape[0])"
   ]
  },
  {
   "cell_type": "code",
   "execution_count": 11,
   "id": "ab5d3084",
   "metadata": {},
   "outputs": [
    {
     "data": {
      "text/html": [
       "<div>\n",
       "<style scoped>\n",
       "    .dataframe tbody tr th:only-of-type {\n",
       "        vertical-align: middle;\n",
       "    }\n",
       "\n",
       "    .dataframe tbody tr th {\n",
       "        vertical-align: top;\n",
       "    }\n",
       "\n",
       "    .dataframe thead th {\n",
       "        text-align: right;\n",
       "    }\n",
       "</style>\n",
       "<table border=\"1\" class=\"dataframe\">\n",
       "  <thead>\n",
       "    <tr style=\"text-align: right;\">\n",
       "      <th></th>\n",
       "      <th>title</th>\n",
       "      <th>body</th>\n",
       "    </tr>\n",
       "  </thead>\n",
       "  <tbody>\n",
       "    <tr>\n",
       "      <th>0</th>\n",
       "      <td>CEO,</td>\n",
       "      <td>CEO, главный исполнительный директор, генераль...</td>\n",
       "    </tr>\n",
       "    <tr>\n",
       "      <th>1</th>\n",
       "      <td>бухгалтер</td>\n",
       "      <td>бухгалтер Ведение бухгалтерского учета – обяза...</td>\n",
       "    </tr>\n",
       "  </tbody>\n",
       "</table>\n",
       "</div>"
      ],
      "text/plain": [
       "       title                                               body\n",
       "0       CEO,  CEO, главный исполнительный директор, генераль...\n",
       "1  бухгалтер  бухгалтер Ведение бухгалтерского учета – обяза..."
      ]
     },
     "execution_count": 11,
     "metadata": {},
     "output_type": "execute_result"
    }
   ],
   "source": [
    "employees_new = empl.copy()\n",
    "employees_new"
   ]
  },
  {
   "cell_type": "markdown",
   "id": "9dfc50c4",
   "metadata": {},
   "source": [
    "### Обработаем данные новостей и исследуем их"
   ]
  },
  {
   "cell_type": "code",
   "execution_count": 12,
   "id": "c5da7b69",
   "metadata": {},
   "outputs": [],
   "source": [
    "dataset = pd.read_csv('data/dataset.csv')\n",
    "dataset = dataset[pd.to_datetime(dataset.timestamp).dt.year > 2018]\n",
    "dataset.loc[dataset[dataset.body.str.startswith('МОСКВА')].index, 'body'] =\\\n",
    "    dataset[dataset.body.str.startswith('МОСКВА')].body.str.split('.').str[1:].str.join(' ')"
   ]
  },
  {
   "cell_type": "code",
   "execution_count": 13,
   "id": "fe8b3d7b",
   "metadata": {},
   "outputs": [],
   "source": [
    "dataset.index = dataset.id\n",
    "dataset.drop(columns=['id'], inplace=True)\n",
    "dataset.index.name = 'id'\n",
    "dataset.timestamp = pd.to_datetime(dataset.timestamp)\n",
    "dataset.drop(dataset[dataset.body.str.len() < 10].index, axis=0, inplace=True)"
   ]
  },
  {
   "cell_type": "code",
   "execution_count": 14,
   "id": "819651ac",
   "metadata": {},
   "outputs": [],
   "source": [
    "dataset2 = dataset.copy()\n",
    "dataset2 = pd.concat([dataset2, employees_new])\n",
    "dataset2 = dataset2.fillna('')\n",
    "dataset2.body = dataset2.title + ' ' + dataset2.preamble + ' ' + dataset2.tldr + ' ' + dataset2.body"
   ]
  },
  {
   "cell_type": "markdown",
   "id": "6567bad6",
   "metadata": {},
   "source": [
    "### TF-IDF для новостей"
   ]
  },
  {
   "cell_type": "code",
   "execution_count": 15,
   "id": "dc629a2a",
   "metadata": {},
   "outputs": [],
   "source": [
    "def tokenize_text(dataset, drop=True, stop_w=True):\n",
    "\n",
    "    for p in (punctuation + '-'):\n",
    "        dataset = dataset.replace(p, ' ')\n",
    "\n",
    "    dataset = dataset.lower()\n",
    "    tokens = word_tokenize(dataset)\n",
    "    stop_words = set(stopwords.words('russian'))\n",
    "    if(stop_w):\n",
    "        tokens = [w for w in tokens if not w in stop_words]\n",
    "    if (drop):\n",
    "        stemmer = SnowballStemmer(\"russian\")\n",
    "        tokens = [stemmer.stem(i) for i in tokens]\n",
    "    tokens = [i for i in tokens if len(i) > 2 ]\n",
    "\n",
    "    return tokens"
   ]
  },
  {
   "cell_type": "code",
   "execution_count": 16,
   "id": "e8116bba",
   "metadata": {},
   "outputs": [
    {
     "name": "stderr",
     "output_type": "stream",
     "text": [
      "C:\\Users\\User\\anaconda3\\lib\\site-packages\\sklearn\\utils\\deprecation.py:87: FutureWarning: Function get_feature_names is deprecated; get_feature_names is deprecated in 1.0 and will be removed in 1.2. Please use get_feature_names_out instead.\n",
      "  warnings.warn(msg, category=FutureWarning)\n"
     ]
    }
   ],
   "source": [
    "# max_features можно увеличить\n",
    "\n",
    "vectorizer = TfidfVectorizer(tokenizer= lambda x: tokenize_text(x), max_features=20000)\n",
    "body = vectorizer.fit_transform(dataset2.body)\n",
    "df = pd.DataFrame(body.toarray(), columns=vectorizer.get_feature_names(), index=dataset2.index)"
   ]
  },
  {
   "cell_type": "code",
   "execution_count": 17,
   "id": "25ba0283",
   "metadata": {},
   "outputs": [],
   "source": [
    "dataset1 = dataset2.drop(columns=['title', 'preamble', 'tldr', 'body', 'source', 'topic', 'timestamp'])\n",
    "dataset1 = pd.merge(dataset1, df, left_index=True, right_index=True)"
   ]
  },
  {
   "cell_type": "markdown",
   "id": "4d1bef15",
   "metadata": {},
   "source": [
    "### SVD для полученной матрицы TF-IDF"
   ]
  },
  {
   "cell_type": "code",
   "execution_count": 18,
   "id": "0e5b94d6",
   "metadata": {},
   "outputs": [],
   "source": [
    "tsvd = TruncatedSVD(n_components=min(dataset1.shape[0], 2000))\n",
    "tf_idf_vectors = tsvd.fit_transform(dataset1)"
   ]
  },
  {
   "cell_type": "code",
   "execution_count": 19,
   "id": "f6496879",
   "metadata": {},
   "outputs": [
    {
     "data": {
      "text/html": [
       "<style>#sk-container-id-1 {color: black;background-color: white;}#sk-container-id-1 pre{padding: 0;}#sk-container-id-1 div.sk-toggleable {background-color: white;}#sk-container-id-1 label.sk-toggleable__label {cursor: pointer;display: block;width: 100%;margin-bottom: 0;padding: 0.3em;box-sizing: border-box;text-align: center;}#sk-container-id-1 label.sk-toggleable__label-arrow:before {content: \"▸\";float: left;margin-right: 0.25em;color: #696969;}#sk-container-id-1 label.sk-toggleable__label-arrow:hover:before {color: black;}#sk-container-id-1 div.sk-estimator:hover label.sk-toggleable__label-arrow:before {color: black;}#sk-container-id-1 div.sk-toggleable__content {max-height: 0;max-width: 0;overflow: hidden;text-align: left;background-color: #f0f8ff;}#sk-container-id-1 div.sk-toggleable__content pre {margin: 0.2em;color: black;border-radius: 0.25em;background-color: #f0f8ff;}#sk-container-id-1 input.sk-toggleable__control:checked~div.sk-toggleable__content {max-height: 200px;max-width: 100%;overflow: auto;}#sk-container-id-1 input.sk-toggleable__control:checked~label.sk-toggleable__label-arrow:before {content: \"▾\";}#sk-container-id-1 div.sk-estimator input.sk-toggleable__control:checked~label.sk-toggleable__label {background-color: #d4ebff;}#sk-container-id-1 div.sk-label input.sk-toggleable__control:checked~label.sk-toggleable__label {background-color: #d4ebff;}#sk-container-id-1 input.sk-hidden--visually {border: 0;clip: rect(1px 1px 1px 1px);clip: rect(1px, 1px, 1px, 1px);height: 1px;margin: -1px;overflow: hidden;padding: 0;position: absolute;width: 1px;}#sk-container-id-1 div.sk-estimator {font-family: monospace;background-color: #f0f8ff;border: 1px dotted black;border-radius: 0.25em;box-sizing: border-box;margin-bottom: 0.5em;}#sk-container-id-1 div.sk-estimator:hover {background-color: #d4ebff;}#sk-container-id-1 div.sk-parallel-item::after {content: \"\";width: 100%;border-bottom: 1px solid gray;flex-grow: 1;}#sk-container-id-1 div.sk-label:hover label.sk-toggleable__label {background-color: #d4ebff;}#sk-container-id-1 div.sk-serial::before {content: \"\";position: absolute;border-left: 1px solid gray;box-sizing: border-box;top: 0;bottom: 0;left: 50%;z-index: 0;}#sk-container-id-1 div.sk-serial {display: flex;flex-direction: column;align-items: center;background-color: white;padding-right: 0.2em;padding-left: 0.2em;position: relative;}#sk-container-id-1 div.sk-item {position: relative;z-index: 1;}#sk-container-id-1 div.sk-parallel {display: flex;align-items: stretch;justify-content: center;background-color: white;position: relative;}#sk-container-id-1 div.sk-item::before, #sk-container-id-1 div.sk-parallel-item::before {content: \"\";position: absolute;border-left: 1px solid gray;box-sizing: border-box;top: 0;bottom: 0;left: 50%;z-index: -1;}#sk-container-id-1 div.sk-parallel-item {display: flex;flex-direction: column;z-index: 1;position: relative;background-color: white;}#sk-container-id-1 div.sk-parallel-item:first-child::after {align-self: flex-end;width: 50%;}#sk-container-id-1 div.sk-parallel-item:last-child::after {align-self: flex-start;width: 50%;}#sk-container-id-1 div.sk-parallel-item:only-child::after {width: 0;}#sk-container-id-1 div.sk-dashed-wrapped {border: 1px dashed gray;margin: 0 0.4em 0.5em 0.4em;box-sizing: border-box;padding-bottom: 0.4em;background-color: white;}#sk-container-id-1 div.sk-label label {font-family: monospace;font-weight: bold;display: inline-block;line-height: 1.2em;}#sk-container-id-1 div.sk-label-container {text-align: center;}#sk-container-id-1 div.sk-container {/* jupyter's `normalize.less` sets `[hidden] { display: none; }` but bootstrap.min.css set `[hidden] { display: none !important; }` so we also need the `!important` here to be able to override the default hidden behavior on the sphinx rendered scikit-learn.org. See: https://github.com/scikit-learn/scikit-learn/issues/21755 */display: inline-block !important;position: relative;}#sk-container-id-1 div.sk-text-repr-fallback {display: none;}</style><div id=\"sk-container-id-1\" class=\"sk-top-container\"><div class=\"sk-text-repr-fallback\"><pre>NearestNeighbors(n_neighbors=2)</pre><b>In a Jupyter environment, please rerun this cell to show the HTML representation or trust the notebook. <br />On GitHub, the HTML representation is unable to render, please try loading this page with nbviewer.org.</b></div><div class=\"sk-container\" hidden><div class=\"sk-item\"><div class=\"sk-estimator sk-toggleable\"><input class=\"sk-toggleable__control sk-hidden--visually\" id=\"sk-estimator-id-1\" type=\"checkbox\" checked><label for=\"sk-estimator-id-1\" class=\"sk-toggleable__label sk-toggleable__label-arrow\">NearestNeighbors</label><div class=\"sk-toggleable__content\"><pre>NearestNeighbors(n_neighbors=2)</pre></div></div></div></div></div>"
      ],
      "text/plain": [
       "NearestNeighbors(n_neighbors=2)"
      ]
     },
     "execution_count": 19,
     "metadata": {},
     "output_type": "execute_result"
    }
   ],
   "source": [
    "nn1 = NearestNeighbors(n_neighbors=2)\n",
    "nn1.fit([[1, 1.5, 1.25], [2, 2.5, 2.25]])"
   ]
  },
  {
   "cell_type": "code",
   "execution_count": 20,
   "id": "fc18bed5",
   "metadata": {},
   "outputs": [
    {
     "data": {
      "text/plain": [
       "(array([[0.55901699, 2.1937411 ]]), array([[0, 1]], dtype=int64))"
      ]
     },
     "execution_count": 20,
     "metadata": {},
     "output_type": "execute_result"
    }
   ],
   "source": [
    "nn1.kneighbors([[1, 1, 1]])"
   ]
  },
  {
   "cell_type": "markdown",
   "id": "cbcb273e",
   "metadata": {},
   "source": [
    "### KNN для матрицы SVD"
   ]
  },
  {
   "cell_type": "code",
   "execution_count": 55,
   "id": "a3b1b6e2",
   "metadata": {},
   "outputs": [],
   "source": [
    "# разделим на кластеры новости для CEO и бухгалтера\n",
    "\n",
    "nn = NearestNeighbors(n_neighbors=400)\n",
    "nn.fit((tf_idf_vectors[:-2] * 10000).astype('int'))\n",
    "ids = nn.kneighbors((tf_idf_vectors[-2:] * 10000).astype('int'), n_neighbors=400)\n",
    "data_director = dataset.iloc[ids[1][0]]\n",
    "data_accountant = dataset.iloc[ids[1][1]]"
   ]
  },
  {
   "cell_type": "code",
   "execution_count": 56,
   "id": "2580b7e0",
   "metadata": {},
   "outputs": [
    {
     "name": "stderr",
     "output_type": "stream",
     "text": [
      "C:\\Users\\User\\AppData\\Local\\Temp\\ipykernel_9456\\1253099401.py:1: FutureWarning: The frame.append method is deprecated and will be removed from pandas in a future version. Use pandas.concat instead.\n",
      "  data_director = data_director.append(employees_new.iloc[0])\n",
      "C:\\Users\\User\\AppData\\Local\\Temp\\ipykernel_9456\\1253099401.py:2: FutureWarning: The frame.append method is deprecated and will be removed from pandas in a future version. Use pandas.concat instead.\n",
      "  data_accountant = data_accountant.append(employees_new.iloc[1])\n"
     ]
    },
    {
     "data": {
      "text/html": [
       "<div>\n",
       "<style scoped>\n",
       "    .dataframe tbody tr th:only-of-type {\n",
       "        vertical-align: middle;\n",
       "    }\n",
       "\n",
       "    .dataframe tbody tr th {\n",
       "        vertical-align: top;\n",
       "    }\n",
       "\n",
       "    .dataframe thead th {\n",
       "        text-align: right;\n",
       "    }\n",
       "</style>\n",
       "<table border=\"1\" class=\"dataframe\">\n",
       "  <thead>\n",
       "    <tr style=\"text-align: right;\">\n",
       "      <th></th>\n",
       "      <th>source</th>\n",
       "      <th>topic</th>\n",
       "      <th>title</th>\n",
       "      <th>preamble</th>\n",
       "      <th>tldr</th>\n",
       "      <th>timestamp</th>\n",
       "      <th>body</th>\n",
       "    </tr>\n",
       "    <tr>\n",
       "      <th>id</th>\n",
       "      <th></th>\n",
       "      <th></th>\n",
       "      <th></th>\n",
       "      <th></th>\n",
       "      <th></th>\n",
       "      <th></th>\n",
       "      <th></th>\n",
       "    </tr>\n",
       "  </thead>\n",
       "  <tbody>\n",
       "    <tr>\n",
       "      <th>ria-targetolog-1749013098</th>\n",
       "      <td>ria</td>\n",
       "      <td>tag_rabota</td>\n",
       "      <td>Таргетолог: как стать специалистом по таргетированной рекламе</td>\n",
       "      <td>NaN</td>\n",
       "      <td>NaN</td>\n",
       "      <td>2021-09-07</td>\n",
       "      <td>Профессия таргетолог востребована на рынке труда: любому виду бизнеса необходима грамотная подача  В обязанности специалиста входит работа по настройке рекламы в соцсетях для решения поставленных задач  О том, какие навыки нужно иметь, чтобы стать таргетологом, какие функции выполняет таргетированная реклама, какие перспективы развития в этой профессии — в материале РИА Новости \\nТаргетолог — это маркетолог, специализирующийся на рекламе в социальных сетях, направленной на расширение покупательской аудитории того или иного продукта  Таким образом, от его работы зависит популярность марки и доход от продаж  Этот тип рекламы называется таргетированной (от английского target — цель): с помощью настроек специалист ограничивает круг пользователей, которым она будет видна, чтобы выйти на целевую аудиторию, где люди с большой вероятностью выполнят желаемое действие (пойдут на мероприятие, купят курсы и т д ) \\nРабота по настройке таргетированной рекламы заключается в установлении определ...</td>\n",
       "    </tr>\n",
       "    <tr>\n",
       "      <th>ria-kogan-1819619754</th>\n",
       "      <td>ria</td>\n",
       "      <td>economy</td>\n",
       "      <td>Евгений Коган: либерализация экономики поможет ответить на жесткие вызовы</td>\n",
       "      <td>NaN</td>\n",
       "      <td>NaN</td>\n",
       "      <td>2022-09-27</td>\n",
       "      <td>В условиях беспрецедентного внешнеполитического давления российская промышленность и бизнес пытаются адаптироваться к новым непростым реалиям. Как в этом может помочь новая экономическая политика (НЭП 2.0) и какими должны быть главные шаги правительства по оживлению экономики в интервью РИА Новости рассказал профессор ВШЭ, инвестиционный банкир Евгений Коган.\\n- Что происходит с экономикой России сегодня, как можно охарактеризовать ее состояние с точки зрения промышленности и бизнеса?\\n- Сегодня наша экономика и бизнес переживают непростой период переосмысления и адаптации, понимания своего места в новых реалиях. С одной стороны – это попытки выживания в непривычных условиях, когда обрушились или рушатся внешние связи, идут санкции, уходят партнеры, рушится система транзакций, схемы работы и механизмы оптимизации финансовых потоков. Все это приходится выстраивать заново. С другой стороны – появилась возможность захвата новых ниш, освободившихся после ухода многих западных компаний,...</td>\n",
       "    </tr>\n",
       "    <tr>\n",
       "      <th>ria-analitik-1756638664</th>\n",
       "      <td>ria</td>\n",
       "      <td>tag_biznes</td>\n",
       "      <td>Аналитик – незаменимый советник топ-менеджера и опора бизнеса</td>\n",
       "      <td>NaN</td>\n",
       "      <td>NaN</td>\n",
       "      <td>2021-11-24</td>\n",
       "      <td>Аналитик – одна из самых востребованных позиций. Работать в такой должности можно, лишь обладая нужными знаниями. Чем занимается специалист этой профессии, рассказывает радио Sputnik.\\nСбор данных, их структурирование и расшифровка, поиск общих тенденций, а затем приведение таблицы накопленных и проанализированных цифр в единую форму – это обязанности сотрудника, которого наняли на должность аналитика. Одна из главных задач аналитического отдела на любом предприятии – это прогноз, который строится на скрупулезно собранной информации. И как видно из обозначенных профессиональных обязанностей, аналитик – это не столько профессия, сколько обобщенное название должности на предприятиях совершенно разных сфер деятельности.\\nСначала слово \"аналитик\" ассоциировалось у большинства с финансовым, банковским, брокерским делом. Теперь же без аналитического отдела не обходится ни одна крупная фирма, независимо от того, в какой области она работает – от биотехнологий до продажи мороженного.\\nДля ...</td>\n",
       "    </tr>\n",
       "  </tbody>\n",
       "</table>\n",
       "</div>"
      ],
      "text/plain": [
       "                          source       topic  \\\n",
       "id                                             \n",
       "ria-targetolog-1749013098    ria  tag_rabota   \n",
       "ria-kogan-1819619754         ria     economy   \n",
       "ria-analitik-1756638664      ria  tag_biznes   \n",
       "\n",
       "                                                                                               title  \\\n",
       "id                                                                                                     \n",
       "ria-targetolog-1749013098              Таргетолог: как стать специалистом по таргетированной рекламе   \n",
       "ria-kogan-1819619754       Евгений Коган: либерализация экономики поможет ответить на жесткие вызовы   \n",
       "ria-analitik-1756638664                Аналитик – незаменимый советник топ-менеджера и опора бизнеса   \n",
       "\n",
       "                          preamble tldr  timestamp  \\\n",
       "id                                                   \n",
       "ria-targetolog-1749013098      NaN  NaN 2021-09-07   \n",
       "ria-kogan-1819619754           NaN  NaN 2022-09-27   \n",
       "ria-analitik-1756638664        NaN  NaN 2021-11-24   \n",
       "\n",
       "                                                                                                                                                                                                                                                                                                                                                                                                                                                                                                                                                                                                                                                                                                                                                                                                                                                                                                                                                                                                                                                              body  \n",
       "id                                                                                                                                                                                                                                                                                                                                                                                                                                                                                                                                                                                                                                                                                                                                                                                                                                                                                                                                                                                                                                                                  \n",
       "ria-targetolog-1749013098   Профессия таргетолог востребована на рынке труда: любому виду бизнеса необходима грамотная подача  В обязанности специалиста входит работа по настройке рекламы в соцсетях для решения поставленных задач  О том, какие навыки нужно иметь, чтобы стать таргетологом, какие функции выполняет таргетированная реклама, какие перспективы развития в этой профессии — в материале РИА Новости \\nТаргетолог — это маркетолог, специализирующийся на рекламе в социальных сетях, направленной на расширение покупательской аудитории того или иного продукта  Таким образом, от его работы зависит популярность марки и доход от продаж  Этот тип рекламы называется таргетированной (от английского target — цель): с помощью настроек специалист ограничивает круг пользователей, которым она будет видна, чтобы выйти на целевую аудиторию, где люди с большой вероятностью выполнят желаемое действие (пойдут на мероприятие, купят курсы и т д ) \\nРабота по настройке таргетированной рекламы заключается в установлении определ...  \n",
       "ria-kogan-1819619754       В условиях беспрецедентного внешнеполитического давления российская промышленность и бизнес пытаются адаптироваться к новым непростым реалиям. Как в этом может помочь новая экономическая политика (НЭП 2.0) и какими должны быть главные шаги правительства по оживлению экономики в интервью РИА Новости рассказал профессор ВШЭ, инвестиционный банкир Евгений Коган.\\n- Что происходит с экономикой России сегодня, как можно охарактеризовать ее состояние с точки зрения промышленности и бизнеса?\\n- Сегодня наша экономика и бизнес переживают непростой период переосмысления и адаптации, понимания своего места в новых реалиях. С одной стороны – это попытки выживания в непривычных условиях, когда обрушились или рушатся внешние связи, идут санкции, уходят партнеры, рушится система транзакций, схемы работы и механизмы оптимизации финансовых потоков. Все это приходится выстраивать заново. С другой стороны – появилась возможность захвата новых ниш, освободившихся после ухода многих западных компаний,...  \n",
       "ria-analitik-1756638664    Аналитик – одна из самых востребованных позиций. Работать в такой должности можно, лишь обладая нужными знаниями. Чем занимается специалист этой профессии, рассказывает радио Sputnik.\\nСбор данных, их структурирование и расшифровка, поиск общих тенденций, а затем приведение таблицы накопленных и проанализированных цифр в единую форму – это обязанности сотрудника, которого наняли на должность аналитика. Одна из главных задач аналитического отдела на любом предприятии – это прогноз, который строится на скрупулезно собранной информации. И как видно из обозначенных профессиональных обязанностей, аналитик – это не столько профессия, сколько обобщенное название должности на предприятиях совершенно разных сфер деятельности.\\nСначала слово \"аналитик\" ассоциировалось у большинства с финансовым, банковским, брокерским делом. Теперь же без аналитического отдела не обходится ни одна крупная фирма, независимо от того, в какой области она работает – от биотехнологий до продажи мороженного.\\nДля ...  "
      ]
     },
     "metadata": {},
     "output_type": "display_data"
    },
    {
     "data": {
      "text/html": [
       "<div>\n",
       "<style scoped>\n",
       "    .dataframe tbody tr th:only-of-type {\n",
       "        vertical-align: middle;\n",
       "    }\n",
       "\n",
       "    .dataframe tbody tr th {\n",
       "        vertical-align: top;\n",
       "    }\n",
       "\n",
       "    .dataframe thead th {\n",
       "        text-align: right;\n",
       "    }\n",
       "</style>\n",
       "<table border=\"1\" class=\"dataframe\">\n",
       "  <thead>\n",
       "    <tr style=\"text-align: right;\">\n",
       "      <th></th>\n",
       "      <th>source</th>\n",
       "      <th>topic</th>\n",
       "      <th>title</th>\n",
       "      <th>preamble</th>\n",
       "      <th>tldr</th>\n",
       "      <th>timestamp</th>\n",
       "      <th>body</th>\n",
       "    </tr>\n",
       "    <tr>\n",
       "      <th>id</th>\n",
       "      <th></th>\n",
       "      <th></th>\n",
       "      <th></th>\n",
       "      <th></th>\n",
       "      <th></th>\n",
       "      <th></th>\n",
       "      <th></th>\n",
       "    </tr>\n",
       "  </thead>\n",
       "  <tbody>\n",
       "    <tr>\n",
       "      <th>ria-bukhgalter-1752990757</th>\n",
       "      <td>ria</td>\n",
       "      <td>tag_rabota</td>\n",
       "      <td>Милый мой бухгалтер: кто стоит на страже финансов компании</td>\n",
       "      <td>NaN</td>\n",
       "      <td>NaN</td>\n",
       "      <td>2021-10-06</td>\n",
       "      <td>Бухгалтер, пожалуй, важнейшая должность в любой организации. Вклад представителей этой специальности очень заметный, хотя и не такой броский, как у других профессий, отвечающих за законность работы. В чем суть бухгалтерского труда и каковы особенности этой сферы в России?\\nВ любой компании, как известно, есть бухгалтер. А в крупных – даже несколько – по одному на каждый участок. Одни занимаются учетом средств компании, другие расчетами с контрагентами. Третьи ведают вопросами начисления заработной платы и премий. Четвертые отвечают за уплату налогов и т.д.\\nБухгалтер – представитель финансовой службы, который отвечает за учет и систематизацию хозяйственных операций в соответствии с требованиями законодательства. По сути, все операции, сделки и факты из жизни компании счетный работник обрабатывает и систематизирует, чтобы потом отразить информацию в отчетности.\\nТребования к бухгалтерам определены законом. Государство обязывает фирму вести бухгалтерский учет и отчитываться перед ним...</td>\n",
       "    </tr>\n",
       "    <tr>\n",
       "      <th>ria-bukhgalter-1756327321</th>\n",
       "      <td>ria</td>\n",
       "      <td>tag_rabota</td>\n",
       "      <td>День бухгалтера: современные наследники храма Сатурна</td>\n",
       "      <td>NaN</td>\n",
       "      <td>NaN</td>\n",
       "      <td>2021-11-21</td>\n",
       "      <td>В 2022 году в России День бухгалтера отмечается 21 ноября. Праздник появился после того, как Борис Ельцин подписал закон \"О бухгалтерии\". Радио Sputnik рассказывает о секретах профессии.\\nУ специалистов по бухгалтерскому делу официально своего праздника нет. По большому счету, они могут отмечать его весь ноябрь – на предпоследний месяц года выпадают сразу три даты, которые могут считаться профессиональным праздником сотрудников, сводящих дебит с кредитом.\\nОдин из профессиональных праздников бухгалтера отмечается 10 ноября – это Международный день бухгалтера. В этот день в 1494 году был опубликован первый труд, содержащий в том числе размышления о бухгалтерских счетах. В российской столице долгое время был популярен День московского бухгалтера, который отмечали 16 ноября. В некоторых компаниях празднуют 25 или 28 ноября – дни, когда в 1996 году вступил в силу Федеральный закон \"О бухучете\". Но основная дата, конечно, – это 21 ноября. Именно в этот день в том же 1996 году президент ...</td>\n",
       "    </tr>\n",
       "    <tr>\n",
       "      <th>ria-professii-1788131621</th>\n",
       "      <td>ria</td>\n",
       "      <td>tag_rabota</td>\n",
       "      <td>Банкир, менеджер, логист: плюсы экономических профессий и уровень зарплат</td>\n",
       "      <td>NaN</td>\n",
       "      <td>NaN</td>\n",
       "      <td>2022-05-12</td>\n",
       "      <td>Специальности, относящиеся к экономической отрасли, пользуются у абитуриентов спросом  Виды деятельности представителей  экономических профессий, как выбрать подходящий профиль обучения и где получить образование, чтобы попасть в число востребованных специалистов, перспективы карьеры — в материале РИА Новости \\nЭкономист, финансист, аудитор, бухгалтер — во многом схожие профессии, но есть и ряд различий  Каждое направление имеет свою специфику и предполагает определенные способы обучения и варианты карьерного роста \\nСогласно общероссийскому \"Классификатору специальностей по образованию\" (ОКСО) существует множество экономических профессий \\nО самых популярных из них рассказал Юрий Михеев, руководитель департамента аналитики \"Зарплаты ру\":\\nАудиторов можно разделить на две группы:\\nВ мире экономических профессий выделяют более узкие направления — банкир, логист, товаровед, маркетолог, менеджер, ревизор  Эти специалисты обладают навыками финансового анализа, логистики, бухгалтерии и...</td>\n",
       "    </tr>\n",
       "  </tbody>\n",
       "</table>\n",
       "</div>"
      ],
      "text/plain": [
       "                          source       topic  \\\n",
       "id                                             \n",
       "ria-bukhgalter-1752990757    ria  tag_rabota   \n",
       "ria-bukhgalter-1756327321    ria  tag_rabota   \n",
       "ria-professii-1788131621     ria  tag_rabota   \n",
       "\n",
       "                                                                                               title  \\\n",
       "id                                                                                                     \n",
       "ria-bukhgalter-1752990757                 Милый мой бухгалтер: кто стоит на страже финансов компании   \n",
       "ria-bukhgalter-1756327321                      День бухгалтера: современные наследники храма Сатурна   \n",
       "ria-professii-1788131621   Банкир, менеджер, логист: плюсы экономических профессий и уровень зарплат   \n",
       "\n",
       "                          preamble tldr  timestamp  \\\n",
       "id                                                   \n",
       "ria-bukhgalter-1752990757      NaN  NaN 2021-10-06   \n",
       "ria-bukhgalter-1756327321      NaN  NaN 2021-11-21   \n",
       "ria-professii-1788131621       NaN  NaN 2022-05-12   \n",
       "\n",
       "                                                                                                                                                                                                                                                                                                                                                                                                                                                                                                                                                                                                                                                                                                                                                                                                                                                                                                                                                                                                                                                              body  \n",
       "id                                                                                                                                                                                                                                                                                                                                                                                                                                                                                                                                                                                                                                                                                                                                                                                                                                                                                                                                                                                                                                                                  \n",
       "ria-bukhgalter-1752990757  Бухгалтер, пожалуй, важнейшая должность в любой организации. Вклад представителей этой специальности очень заметный, хотя и не такой броский, как у других профессий, отвечающих за законность работы. В чем суть бухгалтерского труда и каковы особенности этой сферы в России?\\nВ любой компании, как известно, есть бухгалтер. А в крупных – даже несколько – по одному на каждый участок. Одни занимаются учетом средств компании, другие расчетами с контрагентами. Третьи ведают вопросами начисления заработной платы и премий. Четвертые отвечают за уплату налогов и т.д.\\nБухгалтер – представитель финансовой службы, который отвечает за учет и систематизацию хозяйственных операций в соответствии с требованиями законодательства. По сути, все операции, сделки и факты из жизни компании счетный работник обрабатывает и систематизирует, чтобы потом отразить информацию в отчетности.\\nТребования к бухгалтерам определены законом. Государство обязывает фирму вести бухгалтерский учет и отчитываться перед ним...  \n",
       "ria-bukhgalter-1756327321  В 2022 году в России День бухгалтера отмечается 21 ноября. Праздник появился после того, как Борис Ельцин подписал закон \"О бухгалтерии\". Радио Sputnik рассказывает о секретах профессии.\\nУ специалистов по бухгалтерскому делу официально своего праздника нет. По большому счету, они могут отмечать его весь ноябрь – на предпоследний месяц года выпадают сразу три даты, которые могут считаться профессиональным праздником сотрудников, сводящих дебит с кредитом.\\nОдин из профессиональных праздников бухгалтера отмечается 10 ноября – это Международный день бухгалтера. В этот день в 1494 году был опубликован первый труд, содержащий в том числе размышления о бухгалтерских счетах. В российской столице долгое время был популярен День московского бухгалтера, который отмечали 16 ноября. В некоторых компаниях празднуют 25 или 28 ноября – дни, когда в 1996 году вступил в силу Федеральный закон \"О бухучете\". Но основная дата, конечно, – это 21 ноября. Именно в этот день в том же 1996 году президент ...  \n",
       "ria-professii-1788131621    Специальности, относящиеся к экономической отрасли, пользуются у абитуриентов спросом  Виды деятельности представителей  экономических профессий, как выбрать подходящий профиль обучения и где получить образование, чтобы попасть в число востребованных специалистов, перспективы карьеры — в материале РИА Новости \\nЭкономист, финансист, аудитор, бухгалтер — во многом схожие профессии, но есть и ряд различий  Каждое направление имеет свою специфику и предполагает определенные способы обучения и варианты карьерного роста \\nСогласно общероссийскому \"Классификатору специальностей по образованию\" (ОКСО) существует множество экономических профессий \\nО самых популярных из них рассказал Юрий Михеев, руководитель департамента аналитики \"Зарплаты ру\":\\nАудиторов можно разделить на две группы:\\nВ мире экономических профессий выделяют более узкие направления — банкир, логист, товаровед, маркетолог, менеджер, ревизор  Эти специалисты обладают навыками финансового анализа, логистики, бухгалтерии и...  "
      ]
     },
     "metadata": {},
     "output_type": "display_data"
    }
   ],
   "source": [
    "data_director = data_director.append(employees_new.iloc[0])\n",
    "data_accountant = data_accountant.append(employees_new.iloc[1])\n",
    "display(data_director.head(3), data_accountant.head(3))"
   ]
  },
  {
   "cell_type": "markdown",
   "id": "905ea0fd",
   "metadata": {},
   "source": [
    "### Bert для получившейся матрицы новостей"
   ]
  },
  {
   "cell_type": "code",
   "execution_count": 57,
   "id": "457ff447",
   "metadata": {},
   "outputs": [],
   "source": [
    "# model_class, tokenizer_class, pretrained_weights = (\n",
    "#     ppb.DistilBertModel, \n",
    "#     ppb.DistilBertTokenizer, \n",
    "#     'distilbert-base-uncased'\n",
    "# )\n",
    "\n",
    "# tokenizer = tokenizer_class.from_pretrained(pretrained_weights)\n",
    "# model = model_class.from_pretrained(pretrained_weights)"
   ]
  },
  {
   "cell_type": "code",
   "execution_count": 58,
   "id": "dd266472",
   "metadata": {},
   "outputs": [
    {
     "name": "stderr",
     "output_type": "stream",
     "text": [
      "Some weights of the model checkpoint at cointegrated/rubert-tiny were not used when initializing BertModel: ['cls.predictions.bias', 'cls.predictions.decoder.bias', 'cls.predictions.transform.dense.weight', 'cls.predictions.transform.dense.bias', 'cls.seq_relationship.weight', 'cls.predictions.transform.LayerNorm.bias', 'cls.predictions.decoder.weight', 'cls.seq_relationship.bias', 'cls.predictions.transform.LayerNorm.weight']\n",
      "- This IS expected if you are initializing BertModel from the checkpoint of a model trained on another task or with another architecture (e.g. initializing a BertForSequenceClassification model from a BertForPreTraining model).\n",
      "- This IS NOT expected if you are initializing BertModel from the checkpoint of a model that you expect to be exactly identical (initializing a BertForSequenceClassification model from a BertForSequenceClassification model).\n"
     ]
    }
   ],
   "source": [
    "tokenizer = AutoTokenizer.from_pretrained(\"cointegrated/rubert-tiny\")\n",
    "model = AutoModel.from_pretrained(\"cointegrated/rubert-tiny\")\n",
    "\n",
    "def embed_bert_cls(text, model, tokenizer):\n",
    "    t = tokenizer(text, padding=True, truncation=True, return_tensors='pt')\n",
    "    with torch.no_grad():\n",
    "        model_output = model(**{k: v.to(model.device) for k, v in t.items()})\n",
    "    embeddings = model_output.last_hidden_state[:, 0, :]\n",
    "    embeddings = torch.nn.functional.normalize(embeddings)\n",
    "    return embeddings[0].cpu().numpy()"
   ]
  },
  {
   "cell_type": "code",
   "execution_count": 59,
   "id": "ef33bd1e",
   "metadata": {},
   "outputs": [
    {
     "name": "stdout",
     "output_type": "stream",
     "text": [
      "0\n"
     ]
    }
   ],
   "source": [
    "# если 1, то вывести данные для CEO, если 0, то вывести данные для бухгалтера\n",
    "\n",
    "flag = int(input())\n",
    "if (flag):\n",
    "    data = data_director.copy()\n",
    "else: \n",
    "    data = data_accountant.copy()\n",
    "\n",
    "# ввожу 0"
   ]
  },
  {
   "cell_type": "code",
   "execution_count": 60,
   "id": "a1e285c3",
   "metadata": {},
   "outputs": [],
   "source": [
    "# создадим столбец first_sentence для упрощенной работы с Bert\n",
    "\n",
    "data['first_sentence'] = data.tldr\n",
    "data.loc[data[data['first_sentence'].isna()].index, 'first_sentence'] = data[data['first_sentence'].isna()].body.str.split(' ').str[:50].str.join(' ')\n"
   ]
  },
  {
   "cell_type": "code",
   "execution_count": 61,
   "id": "69bc1055",
   "metadata": {},
   "outputs": [],
   "source": [
    "data['data'] = data.first_sentence.apply(lambda x: tokenize_text(str(x), drop=False, stop_w=False))\n",
    "train = data['data'].apply(lambda x: embed_bert_cls(x, model, tokenizer))"
   ]
  },
  {
   "cell_type": "code",
   "execution_count": 62,
   "id": "0615f523",
   "metadata": {},
   "outputs": [],
   "source": [
    "array = []\n",
    "for tr in train.values:\n",
    "    array.append(tr)\n",
    "    \n",
    "array = np.array(array)\n",
    "df_train = pd.DataFrame(array)"
   ]
  },
  {
   "cell_type": "markdown",
   "id": "af70e39e",
   "metadata": {},
   "source": [
    "### KNN для матрицы Bert"
   ]
  },
  {
   "cell_type": "code",
   "execution_count": 63,
   "id": "9749fd59",
   "metadata": {},
   "outputs": [],
   "source": [
    "# релевантные новости для сотрудника\n",
    "\n",
    "nn = NearestNeighbors(n_neighbors=10)\n",
    "nn.fit(df_train[:-1])\n",
    "\n",
    "ids = nn.kneighbors(df_train[-1:], n_neighbors=10)[1]\n",
    "data_first = data.iloc[ids[0]]"
   ]
  },
  {
   "cell_type": "code",
   "execution_count": 64,
   "id": "ae68815f",
   "metadata": {},
   "outputs": [
    {
     "data": {
      "text/html": [
       "<div>\n",
       "<style scoped>\n",
       "    .dataframe tbody tr th:only-of-type {\n",
       "        vertical-align: middle;\n",
       "    }\n",
       "\n",
       "    .dataframe tbody tr th {\n",
       "        vertical-align: top;\n",
       "    }\n",
       "\n",
       "    .dataframe thead th {\n",
       "        text-align: right;\n",
       "    }\n",
       "</style>\n",
       "<table border=\"1\" class=\"dataframe\">\n",
       "  <thead>\n",
       "    <tr style=\"text-align: right;\">\n",
       "      <th></th>\n",
       "      <th>source</th>\n",
       "      <th>topic</th>\n",
       "      <th>title</th>\n",
       "      <th>preamble</th>\n",
       "      <th>tldr</th>\n",
       "      <th>timestamp</th>\n",
       "      <th>body</th>\n",
       "    </tr>\n",
       "    <tr>\n",
       "      <th>id</th>\n",
       "      <th></th>\n",
       "      <th></th>\n",
       "      <th></th>\n",
       "      <th></th>\n",
       "      <th></th>\n",
       "      <th></th>\n",
       "      <th></th>\n",
       "    </tr>\n",
       "  </thead>\n",
       "  <tbody>\n",
       "    <tr>\n",
       "      <th>ria-bukhgalter-1752990757</th>\n",
       "      <td>ria</td>\n",
       "      <td>tag_rabota</td>\n",
       "      <td>Милый мой бухгалтер: кто стоит на страже финансов компании</td>\n",
       "      <td>NaN</td>\n",
       "      <td>NaN</td>\n",
       "      <td>2021-10-06</td>\n",
       "      <td>Бухгалтер, пожалуй, важнейшая должность в любой организации. Вклад представителей этой специальности очень заметный, хотя и не такой броский, как у других профессий, отвечающих за законность работы. В чем суть бухгалтерского труда и каковы особенности этой сферы в России?\\nВ любой компании, как известно, есть бухгалтер. А в крупных – даже несколько – по одному на каждый участок. Одни занимаются учетом средств компании, другие расчетами с контрагентами. Третьи ведают вопросами начисления заработной платы и премий. Четвертые отвечают за уплату налогов и т.д.\\nБухгалтер – представитель финансовой службы, который отвечает за учет и систематизацию хозяйственных операций в соответствии с требованиями законодательства. По сути, все операции, сделки и факты из жизни компании счетный работник обрабатывает и систематизирует, чтобы потом отразить информацию в отчетности.\\nТребования к бухгалтерам определены законом. Государство обязывает фирму вести бухгалтерский учет и отчитываться перед ним...</td>\n",
       "    </tr>\n",
       "    <tr>\n",
       "      <th>ria-svarschik-1767382384</th>\n",
       "      <td>ria</td>\n",
       "      <td>tag_rabota</td>\n",
       "      <td>Профессия сварщик: спрос велик и зарплата высока</td>\n",
       "      <td>NaN</td>\n",
       "      <td>NaN</td>\n",
       "      <td>2022-01-26</td>\n",
       "      <td>Сварщик ценится везде. Поэтому его зарплата в 2021 году – выше средней по стране. На то, сколько он будет зарабатывать, влияют умения и опыт.\\nСкучать сварщику точно не приходится. Он нужен на стройках, на заводах, сельхозпредприятиях, судостроительных верфях, в портах, самолетостроении… Словом, нет такой сферы, где могли бы обойтись без его услуг. Причем не стоит думать, что это только рутинная работа, например, при строительстве мостов, дорожных развязок и тоннелей. Сварщикам найдется дело и в рекламе, и в творческих мастерских, и в студиях художественной ковки, в частности.\\nЧтобы получать удовольствие от работы, она должна нравится. Тогда и желание расти в профессии не будет казаться обузой. Применить свои навыки и потенциал сварщик может где угодно, даже в спорте – взять, например, Формулу-1, где от его таланта (при создании рамы гоночного болида) зависит успех всей команды. Чтобы стать профессионалом экстра класса, конечно, надо получить образование, получив соответствующие с...</td>\n",
       "    </tr>\n",
       "    <tr>\n",
       "      <th>ria-kursy-1820948692</th>\n",
       "      <td>ria</td>\n",
       "      <td>society</td>\n",
       "      <td>Выросло число москвичей, прошедших курсы по направлению службы занятости</td>\n",
       "      <td>Москвичей, прошедших курсы по направлению службы занятости, стало на 15 процентов больше</td>\n",
       "      <td>NaN</td>\n",
       "      <td>2022-10-02</td>\n",
       "      <td>Москвичей, прошедших курсы профессионального образования по направлению службы занятости, стало на 15% больше, чем в прошлом году, сообщается на сайте мэра столицы \\n\"С начала года более 10 тысяч москвичей прошли курсы профессиональной переподготовки и повышения квалификации по направлению специалистов столичной службы занятости  Это на 15% больше, чем за тот же период прошлого года\", - говорится в сообщении со ссылкой на руководителя департамента труда и социальной защиты населения Москвы Евгения Стружака \\nПрограммы включают в себя тренинги и мастер-классы, направленные на развитие гибких навыков, а также дополнительное профессиональное образование  Сотрудники службы занятости помогают соискателям, чья профессия оказалась невостребованной, и тем, кто хочет актуализировать и систематизировать свои знания \\nОтмечается, что безработным, людям старше 50 лет и мамам с детьми дошкольного возраста доступно несколько сотен образовательных программ  Кроме того, москвичи могут освоить раб...</td>\n",
       "    </tr>\n",
       "    <tr>\n",
       "      <th>ria-bezrabotnye-1599982658</th>\n",
       "      <td>ria</td>\n",
       "      <td>tag_rabota</td>\n",
       "      <td>Как встать на биржу труда в 2022 году: пошаговая инструкция</td>\n",
       "      <td>NaN</td>\n",
       "      <td>NaN</td>\n",
       "      <td>2022-08-24</td>\n",
       "      <td>Биржа труда соединяет работодателей и работников  Как зарегистрироваться в центре занятости и получить пособие по безработице, кому оно полагается и какие документы потребуются, а также можно ли это сделать онлайн — в материале РИА Новости \\nБиржа труда — это неофициальное название Центров занятости населения (ЦЗН)  В такое госучреждение по месту жительства может обратиться гражданин, который не трудоустроен или хотел бы сменить место работы, и ему окажут содействие в поиске вакансии  При этом, если человек получит официальный статус безработного, он будет получать пособие, а если начнет осваивать новую профессию в Центре — то стипендию в период обучения \\nДля того, чтобы официально стать безработным, получать пособие и предложения о работе, необходимо:\\nСогласно закону \"О занятости населения в Российской Федерации\", безработными признают трудоспособных граждан, которые не имеют работы и заработка, зарегистрированных в органах службы занятости для поиска подходящей вакансии и гото...</td>\n",
       "    </tr>\n",
       "    <tr>\n",
       "      <th>63319c619a7947dd48f3044e</th>\n",
       "      <td>rbc</td>\n",
       "      <td>economics</td>\n",
       "      <td>Власти предложили взимать со всей недвижимости бизнеса налог по кадастру</td>\n",
       "      <td>NaN</td>\n",
       "      <td>Минфин предлагает рассчитывать налог на имущество по кадастровой стоимости для всего имущества бизнеса, а не для части, как сейчас. Изменение приведет к росту доходов регионов, но увеличит нагрузку на бизнес, говорят эксперты</td>\n",
       "      <td>2022-09-27</td>\n",
       "      <td>Минфин рассчитывает до 2025 года перейти к налогообложению недвижимого имущества организаций, исходя из кадастровой стоимости в отношении всех объектов недвижимости. Такая мера прописана в проекте «Основных направлений бюджетной, налоговой и таможенно-тарифной политики на 2023 год и плановый период 2024 и 2025 годов» (документ есть у РБК, его подлинность подтвердил источник, близкий к правительству).\\nЦель новации — «выравнивание налоговой нагрузки для организаций и физических лиц», говорится в документе. Сейчас по существу все граждане платят налог на квартиры и дома, исходя из их кадастровой стоимости, которая в идеале должна быть близка к рыночной, а у организаций есть много объектов, налогообложение которых осуществляется по старому порядку — исходя из балансовой стоимости (как правило, она ниже кадастровой).\\nМинфин, как автор «Основных направлений», отмечает, что среди общего правила будут исключения — сооружения, для которых налог по-прежнему не будет определяться по кадастр...</td>\n",
       "    </tr>\n",
       "    <tr>\n",
       "      <th>ria-analitik-1756638664</th>\n",
       "      <td>ria</td>\n",
       "      <td>tag_biznes</td>\n",
       "      <td>Аналитик – незаменимый советник топ-менеджера и опора бизнеса</td>\n",
       "      <td>NaN</td>\n",
       "      <td>NaN</td>\n",
       "      <td>2021-11-24</td>\n",
       "      <td>Аналитик – одна из самых востребованных позиций. Работать в такой должности можно, лишь обладая нужными знаниями. Чем занимается специалист этой профессии, рассказывает радио Sputnik.\\nСбор данных, их структурирование и расшифровка, поиск общих тенденций, а затем приведение таблицы накопленных и проанализированных цифр в единую форму – это обязанности сотрудника, которого наняли на должность аналитика. Одна из главных задач аналитического отдела на любом предприятии – это прогноз, который строится на скрупулезно собранной информации. И как видно из обозначенных профессиональных обязанностей, аналитик – это не столько профессия, сколько обобщенное название должности на предприятиях совершенно разных сфер деятельности.\\nСначала слово \"аналитик\" ассоциировалось у большинства с финансовым, банковским, брокерским делом. Теперь же без аналитического отдела не обходится ни одна крупная фирма, независимо от того, в какой области она работает – от биотехнологий до продажи мороженного.\\nДля ...</td>\n",
       "    </tr>\n",
       "    <tr>\n",
       "      <th>ria-donbass-1819014087</th>\n",
       "      <td>ria</td>\n",
       "      <td>society</td>\n",
       "      <td>Донбасс грудью прикрыл всю Россию, заявил Зюганов</td>\n",
       "      <td>Лидер КПРФ Зюганов: Донбасс восстал против нацизма и фашизма и прикрыл грудью всю Россию</td>\n",
       "      <td>NaN</td>\n",
       "      <td>2022-09-23</td>\n",
       "      <td>Донбасс восстал против нацизма и фашизма и прикрыл грудью всю Россию, сказал лидер фракции КПРФ на митинге \"Своих не бросаем\", который прошел на Манежной площади в пятницу \\n\"Я благодарю Донбасс, который восстал против нацизма и фашизма и грудью прикрыл всех нас\", - заявил Зюганов  Он поприветствовал участников митинга и прокричал несколько лозунгов \\n\"Да здравствует свобода, да здравствует Донбасс, да здравствует наша победа, да здравствует единство великого русского народа!\" - прокричал Зюганов \\nРеферендум по вопросу о вхождении в состав России стартовал в пятницу в Донецкой и Луганской народных республиках, а также в Херсонской и Запорожской областях  Голосование продолжится пять дней, до 27 сентября  С инициативой немедленно провести референдумы к властям регионов обратилась общественность  Как заявили представители республик и областей, вхождение в состав России обезопасит их территории и восстановит историческую справедливость  По их мнению, это решение крайне необходимо в ...</td>\n",
       "    </tr>\n",
       "    <tr>\n",
       "      <th>ria-dollar-1784615709</th>\n",
       "      <td>ria</td>\n",
       "      <td>organization_MVF</td>\n",
       "      <td>Во Франции рассказали, кто выиграет от кризиса на Украине</td>\n",
       "      <td>Экономист Аглиетта: кризис на Украине ускорит потерю долларом гегемонии</td>\n",
       "      <td>NaN</td>\n",
       "      <td>2022-04-21</td>\n",
       "      <td>Кризис на Украине подтолкнет мир к отказу от гегемонии доллара, укрепив позиции юаня на международном уровне, такое мнение в беседе с Le Monde выразил французский экономист, научный советник парижского Центра перспективных исследований и международной информации Мишель Аглиетта \\nКак отметил эксперт, в период с 2001 по 2021 год доля доллара в мировых валютных резервах снизилась с 70 с небольшим до 59 процентов  \"Вес юаня в них пока ограничен, но он быстро растет, потому что ряд стран — в особенности азиатских — пытаются уйти из зоны влияния Запада\", — пояснил он, выразив мнение, что в этой связи события на Украине должны будут ускорить \"восхождение юаня на международном уровне и потерю долларом своего главенствующего положения\" \\nПо словам Аглиетты, Китай уже получил преимущество в этой области, открыв свободное хождение цифрового юаня на всей своей территории и приступив к его выводу на международный уровень  В то же время трудности с американской валютой начали проявляться еще в...</td>\n",
       "    </tr>\n",
       "    <tr>\n",
       "      <th>ria-vznos-1812881651</th>\n",
       "      <td>ria</td>\n",
       "      <td>society</td>\n",
       "      <td>Не халявщик, а партнер: за что делают паушальный взнос при покупке франшизы</td>\n",
       "      <td>NaN</td>\n",
       "      <td>NaN</td>\n",
       "      <td>2022-09-10</td>\n",
       "      <td>Франшиза начинается с паушального взноса. Ее оплата через роялти осуществляется потом, на первом же этапе главная статья расходов – разовое отчисление старшему партнеру. Что оно дает плательщику и как лучше производить расчет – в материале радио Sputnik.\\nЧтобы понять, что это такое применительно к сфере франчайзинга, сначала нужно уяснить, что такое франшиза. А это такой способ развития бизнеса, когда одна сторона, как правило за плату, передает другой право пользования некоторыми своими активами, чаще всего нематериальными. К ним относятся, например, товарный знак, секреты производства той или иной продукции или оказания той или иной услуги. Вторая сторона может рассчитывать на поддержку при открытии своего бизнеса как бы под зонтиком старшего партнера – тот подскажет как лучше организовать бизнес-процессы, даст экспертизу по рынку, обучит персонал, подскажет поставщиков и так далее.\\nНапример. Предположим, есть кафе \"У дяди Васи\". Его владельцы умеют готовить, подавать и продава...</td>\n",
       "    </tr>\n",
       "    <tr>\n",
       "      <th>ria-ekonomika-1822064904</th>\n",
       "      <td>ria</td>\n",
       "      <td>economy</td>\n",
       "      <td>Запад не смог \"порвать в клочья\" российскую экономику, заявил Медведев</td>\n",
       "      <td>Медведев: Западу в очередной раз не удалось \"порвать в клочья\" российскую экономику</td>\n",
       "      <td>NaN</td>\n",
       "      <td>2022-10-06</td>\n",
       "      <td>Зампред Совбеза Дмитрий Медведев заявил, что \"порвать в клочья\" российскую экономику у Запада в очередной раз не получилось \\n\"В общем, \"порвать в клочья\" нашу экономику у Запада в очередной раз не получилось  Главное – у России есть не только необходимый запас прочности, но и все возможности для дальнейшего развития\", - написал он в своем Telegram-канале, комментируя восьмой санкционный пакет Евросоюза против РФ \\n</td>\n",
       "    </tr>\n",
       "  </tbody>\n",
       "</table>\n",
       "</div>"
      ],
      "text/plain": [
       "                           source             topic  \\\n",
       "id                                                    \n",
       "ria-bukhgalter-1752990757     ria        tag_rabota   \n",
       "ria-svarschik-1767382384      ria        tag_rabota   \n",
       "ria-kursy-1820948692          ria           society   \n",
       "ria-bezrabotnye-1599982658    ria        tag_rabota   \n",
       "63319c619a7947dd48f3044e      rbc         economics   \n",
       "ria-analitik-1756638664       ria        tag_biznes   \n",
       "ria-donbass-1819014087        ria           society   \n",
       "ria-dollar-1784615709         ria  organization_MVF   \n",
       "ria-vznos-1812881651          ria           society   \n",
       "ria-ekonomika-1822064904      ria           economy   \n",
       "\n",
       "                                                                                                  title  \\\n",
       "id                                                                                                        \n",
       "ria-bukhgalter-1752990757                    Милый мой бухгалтер: кто стоит на страже финансов компании   \n",
       "ria-svarschik-1767382384                               Профессия сварщик: спрос велик и зарплата высока   \n",
       "ria-kursy-1820948692           Выросло число москвичей, прошедших курсы по направлению службы занятости   \n",
       "ria-bezrabotnye-1599982658                  Как встать на биржу труда в 2022 году: пошаговая инструкция   \n",
       "63319c619a7947dd48f3044e       Власти предложили взимать со всей недвижимости бизнеса налог по кадастру   \n",
       "ria-analitik-1756638664                   Аналитик – незаменимый советник топ-менеджера и опора бизнеса   \n",
       "ria-donbass-1819014087                                Донбасс грудью прикрыл всю Россию, заявил Зюганов   \n",
       "ria-dollar-1784615709                         Во Франции рассказали, кто выиграет от кризиса на Украине   \n",
       "ria-vznos-1812881651        Не халявщик, а партнер: за что делают паушальный взнос при покупке франшизы   \n",
       "ria-ekonomika-1822064904         Запад не смог \"порвать в клочья\" российскую экономику, заявил Медведев   \n",
       "\n",
       "                                                                                                            preamble  \\\n",
       "id                                                                                                                     \n",
       "ria-bukhgalter-1752990757                                                                                        NaN   \n",
       "ria-svarschik-1767382384                                                                                         NaN   \n",
       "ria-kursy-1820948692        Москвичей, прошедших курсы по направлению службы занятости, стало на 15 процентов больше   \n",
       "ria-bezrabotnye-1599982658                                                                                       NaN   \n",
       "63319c619a7947dd48f3044e                                                                                         NaN   \n",
       "ria-analitik-1756638664                                                                                          NaN   \n",
       "ria-donbass-1819014087      Лидер КПРФ Зюганов: Донбасс восстал против нацизма и фашизма и прикрыл грудью всю Россию   \n",
       "ria-dollar-1784615709                        Экономист Аглиетта: кризис на Украине ускорит потерю долларом гегемонии   \n",
       "ria-vznos-1812881651                                                                                             NaN   \n",
       "ria-ekonomika-1822064904         Медведев: Западу в очередной раз не удалось \"порвать в клочья\" российскую экономику   \n",
       "\n",
       "                                                                                                                                                                                                                                                         tldr  \\\n",
       "id                                                                                                                                                                                                                                                              \n",
       "ria-bukhgalter-1752990757                                                                                                                                                                                                                                 NaN   \n",
       "ria-svarschik-1767382384                                                                                                                                                                                                                                  NaN   \n",
       "ria-kursy-1820948692                                                                                                                                                                                                                                      NaN   \n",
       "ria-bezrabotnye-1599982658                                                                                                                                                                                                                                NaN   \n",
       "63319c619a7947dd48f3044e    Минфин предлагает рассчитывать налог на имущество по кадастровой стоимости для всего имущества бизнеса, а не для части, как сейчас. Изменение приведет к росту доходов регионов, но увеличит нагрузку на бизнес, говорят эксперты   \n",
       "ria-analitik-1756638664                                                                                                                                                                                                                                   NaN   \n",
       "ria-donbass-1819014087                                                                                                                                                                                                                                    NaN   \n",
       "ria-dollar-1784615709                                                                                                                                                                                                                                     NaN   \n",
       "ria-vznos-1812881651                                                                                                                                                                                                                                      NaN   \n",
       "ria-ekonomika-1822064904                                                                                                                                                                                                                                  NaN   \n",
       "\n",
       "                            timestamp  \\\n",
       "id                                      \n",
       "ria-bukhgalter-1752990757  2021-10-06   \n",
       "ria-svarschik-1767382384   2022-01-26   \n",
       "ria-kursy-1820948692       2022-10-02   \n",
       "ria-bezrabotnye-1599982658 2022-08-24   \n",
       "63319c619a7947dd48f3044e   2022-09-27   \n",
       "ria-analitik-1756638664    2021-11-24   \n",
       "ria-donbass-1819014087     2022-09-23   \n",
       "ria-dollar-1784615709      2022-04-21   \n",
       "ria-vznos-1812881651       2022-09-10   \n",
       "ria-ekonomika-1822064904   2022-10-06   \n",
       "\n",
       "                                                                                                                                                                                                                                                                                                                                                                                                                                                                                                                                                                                                                                                                                                                                                                                                                                                                                                                                                                                                                                                               body  \n",
       "id                                                                                                                                                                                                                                                                                                                                                                                                                                                                                                                                                                                                                                                                                                                                                                                                                                                                                                                                                                                                                                                                   \n",
       "ria-bukhgalter-1752990757   Бухгалтер, пожалуй, важнейшая должность в любой организации. Вклад представителей этой специальности очень заметный, хотя и не такой броский, как у других профессий, отвечающих за законность работы. В чем суть бухгалтерского труда и каковы особенности этой сферы в России?\\nВ любой компании, как известно, есть бухгалтер. А в крупных – даже несколько – по одному на каждый участок. Одни занимаются учетом средств компании, другие расчетами с контрагентами. Третьи ведают вопросами начисления заработной платы и премий. Четвертые отвечают за уплату налогов и т.д.\\nБухгалтер – представитель финансовой службы, который отвечает за учет и систематизацию хозяйственных операций в соответствии с требованиями законодательства. По сути, все операции, сделки и факты из жизни компании счетный работник обрабатывает и систематизирует, чтобы потом отразить информацию в отчетности.\\nТребования к бухгалтерам определены законом. Государство обязывает фирму вести бухгалтерский учет и отчитываться перед ним...  \n",
       "ria-svarschik-1767382384    Сварщик ценится везде. Поэтому его зарплата в 2021 году – выше средней по стране. На то, сколько он будет зарабатывать, влияют умения и опыт.\\nСкучать сварщику точно не приходится. Он нужен на стройках, на заводах, сельхозпредприятиях, судостроительных верфях, в портах, самолетостроении… Словом, нет такой сферы, где могли бы обойтись без его услуг. Причем не стоит думать, что это только рутинная работа, например, при строительстве мостов, дорожных развязок и тоннелей. Сварщикам найдется дело и в рекламе, и в творческих мастерских, и в студиях художественной ковки, в частности.\\nЧтобы получать удовольствие от работы, она должна нравится. Тогда и желание расти в профессии не будет казаться обузой. Применить свои навыки и потенциал сварщик может где угодно, даже в спорте – взять, например, Формулу-1, где от его таланта (при создании рамы гоночного болида) зависит успех всей команды. Чтобы стать профессионалом экстра класса, конечно, надо получить образование, получив соответствующие с...  \n",
       "ria-kursy-1820948692         Москвичей, прошедших курсы профессионального образования по направлению службы занятости, стало на 15% больше, чем в прошлом году, сообщается на сайте мэра столицы \\n\"С начала года более 10 тысяч москвичей прошли курсы профессиональной переподготовки и повышения квалификации по направлению специалистов столичной службы занятости  Это на 15% больше, чем за тот же период прошлого года\", - говорится в сообщении со ссылкой на руководителя департамента труда и социальной защиты населения Москвы Евгения Стружака \\nПрограммы включают в себя тренинги и мастер-классы, направленные на развитие гибких навыков, а также дополнительное профессиональное образование  Сотрудники службы занятости помогают соискателям, чья профессия оказалась невостребованной, и тем, кто хочет актуализировать и систематизировать свои знания \\nОтмечается, что безработным, людям старше 50 лет и мамам с детьми дошкольного возраста доступно несколько сотен образовательных программ  Кроме того, москвичи могут освоить раб...  \n",
       "ria-bezrabotnye-1599982658   Биржа труда соединяет работодателей и работников  Как зарегистрироваться в центре занятости и получить пособие по безработице, кому оно полагается и какие документы потребуются, а также можно ли это сделать онлайн — в материале РИА Новости \\nБиржа труда — это неофициальное название Центров занятости населения (ЦЗН)  В такое госучреждение по месту жительства может обратиться гражданин, который не трудоустроен или хотел бы сменить место работы, и ему окажут содействие в поиске вакансии  При этом, если человек получит официальный статус безработного, он будет получать пособие, а если начнет осваивать новую профессию в Центре — то стипендию в период обучения \\nДля того, чтобы официально стать безработным, получать пособие и предложения о работе, необходимо:\\nСогласно закону \"О занятости населения в Российской Федерации\", безработными признают трудоспособных граждан, которые не имеют работы и заработка, зарегистрированных в органах службы занятости для поиска подходящей вакансии и гото...  \n",
       "63319c619a7947dd48f3044e    Минфин рассчитывает до 2025 года перейти к налогообложению недвижимого имущества организаций, исходя из кадастровой стоимости в отношении всех объектов недвижимости. Такая мера прописана в проекте «Основных направлений бюджетной, налоговой и таможенно-тарифной политики на 2023 год и плановый период 2024 и 2025 годов» (документ есть у РБК, его подлинность подтвердил источник, близкий к правительству).\\nЦель новации — «выравнивание налоговой нагрузки для организаций и физических лиц», говорится в документе. Сейчас по существу все граждане платят налог на квартиры и дома, исходя из их кадастровой стоимости, которая в идеале должна быть близка к рыночной, а у организаций есть много объектов, налогообложение которых осуществляется по старому порядку — исходя из балансовой стоимости (как правило, она ниже кадастровой).\\nМинфин, как автор «Основных направлений», отмечает, что среди общего правила будут исключения — сооружения, для которых налог по-прежнему не будет определяться по кадастр...  \n",
       "ria-analitik-1756638664     Аналитик – одна из самых востребованных позиций. Работать в такой должности можно, лишь обладая нужными знаниями. Чем занимается специалист этой профессии, рассказывает радио Sputnik.\\nСбор данных, их структурирование и расшифровка, поиск общих тенденций, а затем приведение таблицы накопленных и проанализированных цифр в единую форму – это обязанности сотрудника, которого наняли на должность аналитика. Одна из главных задач аналитического отдела на любом предприятии – это прогноз, который строится на скрупулезно собранной информации. И как видно из обозначенных профессиональных обязанностей, аналитик – это не столько профессия, сколько обобщенное название должности на предприятиях совершенно разных сфер деятельности.\\nСначала слово \"аналитик\" ассоциировалось у большинства с финансовым, банковским, брокерским делом. Теперь же без аналитического отдела не обходится ни одна крупная фирма, независимо от того, в какой области она работает – от биотехнологий до продажи мороженного.\\nДля ...  \n",
       "ria-donbass-1819014087       Донбасс восстал против нацизма и фашизма и прикрыл грудью всю Россию, сказал лидер фракции КПРФ на митинге \"Своих не бросаем\", который прошел на Манежной площади в пятницу \\n\"Я благодарю Донбасс, который восстал против нацизма и фашизма и грудью прикрыл всех нас\", - заявил Зюганов  Он поприветствовал участников митинга и прокричал несколько лозунгов \\n\"Да здравствует свобода, да здравствует Донбасс, да здравствует наша победа, да здравствует единство великого русского народа!\" - прокричал Зюганов \\nРеферендум по вопросу о вхождении в состав России стартовал в пятницу в Донецкой и Луганской народных республиках, а также в Херсонской и Запорожской областях  Голосование продолжится пять дней, до 27 сентября  С инициативой немедленно провести референдумы к властям регионов обратилась общественность  Как заявили представители республик и областей, вхождение в состав России обезопасит их территории и восстановит историческую справедливость  По их мнению, это решение крайне необходимо в ...  \n",
       "ria-dollar-1784615709        Кризис на Украине подтолкнет мир к отказу от гегемонии доллара, укрепив позиции юаня на международном уровне, такое мнение в беседе с Le Monde выразил французский экономист, научный советник парижского Центра перспективных исследований и международной информации Мишель Аглиетта \\nКак отметил эксперт, в период с 2001 по 2021 год доля доллара в мировых валютных резервах снизилась с 70 с небольшим до 59 процентов  \"Вес юаня в них пока ограничен, но он быстро растет, потому что ряд стран — в особенности азиатских — пытаются уйти из зоны влияния Запада\", — пояснил он, выразив мнение, что в этой связи события на Украине должны будут ускорить \"восхождение юаня на международном уровне и потерю долларом своего главенствующего положения\" \\nПо словам Аглиетты, Китай уже получил преимущество в этой области, открыв свободное хождение цифрового юаня на всей своей территории и приступив к его выводу на международный уровень  В то же время трудности с американской валютой начали проявляться еще в...  \n",
       "ria-vznos-1812881651        Франшиза начинается с паушального взноса. Ее оплата через роялти осуществляется потом, на первом же этапе главная статья расходов – разовое отчисление старшему партнеру. Что оно дает плательщику и как лучше производить расчет – в материале радио Sputnik.\\nЧтобы понять, что это такое применительно к сфере франчайзинга, сначала нужно уяснить, что такое франшиза. А это такой способ развития бизнеса, когда одна сторона, как правило за плату, передает другой право пользования некоторыми своими активами, чаще всего нематериальными. К ним относятся, например, товарный знак, секреты производства той или иной продукции или оказания той или иной услуги. Вторая сторона может рассчитывать на поддержку при открытии своего бизнеса как бы под зонтиком старшего партнера – тот подскажет как лучше организовать бизнес-процессы, даст экспертизу по рынку, обучит персонал, подскажет поставщиков и так далее.\\nНапример. Предположим, есть кафе \"У дяди Васи\". Его владельцы умеют готовить, подавать и продава...  \n",
       "ria-ekonomika-1822064904                                                                                                                                                                                                                                                                                                                                                                                                                                                                                                                                                                                                        Зампред Совбеза Дмитрий Медведев заявил, что \"порвать в клочья\" российскую экономику у Запада в очередной раз не получилось \\n\"В общем, \"порвать в клочья\" нашу экономику у Запада в очередной раз не получилось  Главное – у России есть не только необходимый запас прочности, но и все возможности для дальнейшего развития\", - написал он в своем Telegram-канале, комментируя восьмой санкционный пакет Евросоюза против РФ \\n  "
      ]
     },
     "execution_count": 64,
     "metadata": {},
     "output_type": "execute_result"
    }
   ],
   "source": [
    "pd.set_option('display.max_colwidth', 1000)\n",
    "data_answer = data_first.drop(columns=['first_sentence', 'data'])\n",
    "data_answer"
   ]
  },
  {
   "cell_type": "code",
   "execution_count": null,
   "id": "75275183",
   "metadata": {},
   "outputs": [],
   "source": []
  }
 ],
 "metadata": {
  "kernelspec": {
   "display_name": "Python 3 (ipykernel)",
   "language": "python",
   "name": "python3"
  },
  "language_info": {
   "codemirror_mode": {
    "name": "ipython",
    "version": 3
   },
   "file_extension": ".py",
   "mimetype": "text/x-python",
   "name": "python",
   "nbconvert_exporter": "python",
   "pygments_lexer": "ipython3",
   "version": "3.9.12"
  }
 },
 "nbformat": 4,
 "nbformat_minor": 5
}
